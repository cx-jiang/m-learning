{
 "cells": [
  {
   "cell_type": "markdown",
   "metadata": {},
   "source": [
    "$\n",
    "f(x)  = x^TAx + 2b^Tx + c\n",
    "$\n",
    "\n",
    "$\n",
    "f(x)^\\prime = 2Ax + 2b^T \n",
    "$\n",
    "\n",
    "$\n",
    "H(x) = f(x)^{\\prime\\prime} = 2A\n",
    "$\n",
    "\n",
    "$\n",
    "\\begin{align}\n",
    "h(a) &= f(x + ad) \\approx f(x) + g^T(x)ad + \\frac{1}{2}(ad)^TH(x)ad\\\\\n",
    "&= f(x) + g^T(x)ad + a^Td^TAad\n",
    "\\end{align}\n",
    "$\n",
    "\n",
    "h(a)对a求导:\n",
    "\n",
    "$\n",
    "h(a){\\prime} = \\frac{\\partial{h(a)}}{\\partial{a}} = g(x)d^T + 2ad^TAd = 0\n",
    "$\n",
    "\n",
    "$\n",
    "a = -\\frac{g(x)d^T}{2d^TAd} = -\\frac{d^T\\nabla{f(x)}}{2d^TAd}\n",
    "$"
   ]
  },
  {
   "cell_type": "code",
   "execution_count": null,
   "metadata": {
    "collapsed": true
   },
   "outputs": [],
   "source": []
  }
 ],
 "metadata": {
  "kernelspec": {
   "display_name": "Python 3",
   "language": "python",
   "name": "python3"
  },
  "language_info": {
   "codemirror_mode": {
    "name": "ipython",
    "version": 3
   },
   "file_extension": ".py",
   "mimetype": "text/x-python",
   "name": "python",
   "nbconvert_exporter": "python",
   "pygments_lexer": "ipython3",
   "version": "3.6.2"
  }
 },
 "nbformat": 4,
 "nbformat_minor": 2
}
